{
  "nbformat": 4,
  "nbformat_minor": 0,
  "metadata": {
    "colab": {
      "provenance": []
    },
    "kernelspec": {
      "name": "python3",
      "display_name": "Python 3"
    },
    "language_info": {
      "name": "python"
    }
  },
  "cells": [
    {
      "cell_type": "code",
      "execution_count": 2,
      "metadata": {
        "id": "1uin2n0xK-pm"
      },
      "outputs": [],
      "source": [
        "import openpyxl\n",
        "from openpyxl.utils import get_column_letter\n",
        "\n",
        "#ワークブックとワークシートを作成\n",
        "workbook = openpyxl.Workbook()\n",
        "ws = workbook.active\n",
        "\n",
        "#宛先を追加\n",
        "ws['B2'] = '請求書'\n",
        "ws['B4'] = '株式会社ABC'\n",
        "ws['B5'] = '〒101-0022 東京都千代田区神田練塀町300'\n",
        "ws['B6'] = 'TEL:03-1234-5678 FAX:03-1234-5678'\n",
        "ws['B7'] = '担当者名:鈴木一郎 様'\n",
        "ws['F4'] = 'No.'\n",
        "ws['F5'] = '日付'\n",
        "ws['G4'] = '0001'\n",
        "\n",
        "#datetimeモジュールのdatetimeクラスをインポートして現在日付を追加\n",
        "from datetime import datetime\n",
        "today = datetime.today()  #現在の日時を取得\n",
        "ws['G5'] = today.strftime('%Y/%m/%d')\n",
        "\n",
        "#データをリストで追加\n",
        "data = [\n",
        "    ['商品名','数量','単価','金額'],\n",
        "    ['商品A', 2, 10000, 20000],\n",
        "    ['商品B', 1, 15000, 15000],\n",
        "    ['', '', '', 35000],\n",
        "    ['', '', '', ''],\n",
        "    ['小計','', '', '=SUM(E11:E12)'],\n",
        "    ['消費税', '', '', '=E13*0.1'],  #消費税を10%として計算\n",
        "    ['合計', '', '', '=SUM(E15:E16)']\n",
        "]\n",
        "\n",
        "#ワークシートに商品データを追加\n",
        "for row_num, row_data in enumerate(data, 10):\n",
        "    for col_num, cell_value in enumerate(row_data, 2):\n",
        "        col_letter = get_column_letter(col_num)  #get_column_letter関数で列番号をアルファベット列名に変換\n",
        "        ws[f\"{col_letter}{row_num}\"] = cell_value\n",
        "\n",
        "\n",
        "#ワークブックを保存\n",
        "filename = f\"請求書_{today.strftime('%Y%m%d')}.xlsx\"\n",
        "workbook.save(filename)"
      ]
    },
    {
      "cell_type": "markdown",
      "source": [],
      "metadata": {
        "id": "cQ2nsGAnnuhl"
      }
    }
  ]
}