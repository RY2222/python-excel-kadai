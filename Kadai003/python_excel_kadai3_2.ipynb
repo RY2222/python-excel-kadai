{
  "nbformat": 4,
  "nbformat_minor": 0,
  "metadata": {
    "colab": {
      "provenance": []
    },
    "kernelspec": {
      "name": "python3",
      "display_name": "Python 3"
    },
    "language_info": {
      "name": "python"
    }
  },
  "cells": [
    {
      "cell_type": "code",
      "execution_count": 7,
      "metadata": {
        "id": "VKB6ZKBhIjRl"
      },
      "outputs": [],
      "source": [
        "import openpyxl\n",
        "import pandas as pd\n",
        "from openpyxl.styles import PatternFill\n",
        "\n",
        "# 処理対象のファイル名のリストを格納\n",
        "file_list = ['2022_年間売上表.xlsx', '2023_年間売上表.xlsx']\n",
        "\n",
        "# 結合後のデータを格納するための空のデータフレームを作成\n",
        "df = pd.DataFrame()\n",
        "\n",
        "# ファイルを一つずつ処理する\n",
        "for file_name in file_list:\n",
        "    # Excelファイルを読み込む　ヘッダーはスキップ\n",
        "    temp_df = pd.read_excel(file_name, skiprows=1)\n",
        "\n",
        "    # データフレームの列名を指定\n",
        "    temp_df.columns = ['売上年', '商品', '金額（千円）']\n",
        "\n",
        "    # concat()でデータフレームを連結\n",
        "    df = pd.concat([df, temp_df], ignore_index=True)\n",
        "\n",
        "# 商品、年別に「合計」を計算する\n",
        "result = df.groupby([\"商品\",\"売上年\"])[\"金額（千円）\"].sum()\n",
        "\n",
        "# Excelファイルを作成する\n",
        "writer = pd.ExcelWriter('売上集計表.xlsx')\n",
        "\n",
        "# DataFrameをExcelファイルに書き込む\n",
        "result.to_excel(writer, sheet_name='Sheet1', index=True)\n",
        "writer.close()\n",
        "\n",
        "\n",
        "workbook = openpyxl.load_workbook(\"売上集計表.xlsx\")\n",
        "sheet = workbook.active\n",
        "\n",
        "#ヘッダーの書式変更\n",
        "change_color = sheet[\"A1:C1\"]\n",
        "fill = PatternFill(patternType=\"solid\", fgColor=\"F2F2F2\")\n",
        "\n",
        "for row in change_color:\n",
        "    for cell in row:\n",
        "        cell.fill = fill\n",
        "\n",
        "workbook.save(\"売上集計表.xlsx\")\n",
        "\n",
        "\n"
      ]
    }
  ]
}